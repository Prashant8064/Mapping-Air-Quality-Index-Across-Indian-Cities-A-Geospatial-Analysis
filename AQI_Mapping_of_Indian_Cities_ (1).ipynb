{
  "cells": [
    {
      "cell_type": "markdown",
      "source": [
        "🧾 Project Introduction\n",
        "The Air Quality Index (AQI) is a standardized indicator used to represent the quality of air in a particular region. It helps people understand how clean or polluted the air is, and what associated health effects might be a concern for them. AQI is calculated based on pollutants such as PM2.5, PM10, NO₂, SO₂, O₃, CO, etc.\n",
        "\n",
        "Many cities in India are experiencing dangerously high pollution levels, which pose serious health risks—especially for children, the elderly, and individuals with respiratory conditions."
      ],
      "metadata": {
        "id": "vcL45T1ZMi7t"
      }
    },
    {
      "cell_type": "code",
      "execution_count": 2,
      "metadata": {
        "id": "0mkvdM2OEpw5"
      },
      "outputs": [],
      "source": [
        "# Step 0: Install and Import Libraries\n",
        "\n",
        "# Install the folium library (if not already installed)\n",
        "!pip install folium -q\n",
        "\n",
        "#  Import essential libraries\n",
        "import pandas as pd            # For data handling\n",
        "import folium                  # For interactive map creation\n",
        "from google.colab import files  # For downloading files in Colab\n",
        "\n",
        "#  Note:\n",
        "# Do NOT import LayerControl from folium.plugins — it's not needed for basic usage\n",
        "# from folium.plugins import LayerControl  # ← Incorrect: should be avoided unless using advanced plugins\n"
      ]
    },
    {
      "cell_type": "markdown",
      "source": [
        "The main objectives of this project are:\n",
        "\n",
        "To visualize AQI data of Indian cities using an interactive map.\n",
        "\n",
        "To categorize and color-code cities based on their AQI levels (Good, Moderate, Poor).\n",
        "\n",
        "To raise public awareness about air quality across different regions.\n",
        "\n",
        "To provide a clear visual aid for decision-makers and citizens to understand pollution trends."
      ],
      "metadata": {
        "id": "RXly7jqgLHwt"
      }
    },
    {
      "cell_type": "code",
      "execution_count": 4,
      "metadata": {
        "colab": {
          "base_uri": "https://localhost:8080/",
          "height": 125
        },
        "id": "VQ9vadJmE5_E",
        "outputId": "3dccbd71-da05-4f0b-ea12-ace3e026ef7a"
      },
      "outputs": [
        {
          "output_type": "stream",
          "name": "stdout",
          "text": [
            "/content/drive/MyDrive/indian_aqi_data.csv\n"
          ]
        },
        {
          "output_type": "display_data",
          "data": {
            "text/plain": [
              "<IPython.core.display.HTML object>"
            ],
            "text/html": [
              "\n",
              "     <input type=\"file\" id=\"files-73badd68-dcd7-4f2c-a62d-3252aef1d4bd\" name=\"files[]\" multiple disabled\n",
              "        style=\"border:none\" />\n",
              "     <output id=\"result-73badd68-dcd7-4f2c-a62d-3252aef1d4bd\">\n",
              "      Upload widget is only available when the cell has been executed in the\n",
              "      current browser session. Please rerun this cell to enable.\n",
              "      </output>\n",
              "      <script>// Copyright 2017 Google LLC\n",
              "//\n",
              "// Licensed under the Apache License, Version 2.0 (the \"License\");\n",
              "// you may not use this file except in compliance with the License.\n",
              "// You may obtain a copy of the License at\n",
              "//\n",
              "//      http://www.apache.org/licenses/LICENSE-2.0\n",
              "//\n",
              "// Unless required by applicable law or agreed to in writing, software\n",
              "// distributed under the License is distributed on an \"AS IS\" BASIS,\n",
              "// WITHOUT WARRANTIES OR CONDITIONS OF ANY KIND, either express or implied.\n",
              "// See the License for the specific language governing permissions and\n",
              "// limitations under the License.\n",
              "\n",
              "/**\n",
              " * @fileoverview Helpers for google.colab Python module.\n",
              " */\n",
              "(function(scope) {\n",
              "function span(text, styleAttributes = {}) {\n",
              "  const element = document.createElement('span');\n",
              "  element.textContent = text;\n",
              "  for (const key of Object.keys(styleAttributes)) {\n",
              "    element.style[key] = styleAttributes[key];\n",
              "  }\n",
              "  return element;\n",
              "}\n",
              "\n",
              "// Max number of bytes which will be uploaded at a time.\n",
              "const MAX_PAYLOAD_SIZE = 100 * 1024;\n",
              "\n",
              "function _uploadFiles(inputId, outputId) {\n",
              "  const steps = uploadFilesStep(inputId, outputId);\n",
              "  const outputElement = document.getElementById(outputId);\n",
              "  // Cache steps on the outputElement to make it available for the next call\n",
              "  // to uploadFilesContinue from Python.\n",
              "  outputElement.steps = steps;\n",
              "\n",
              "  return _uploadFilesContinue(outputId);\n",
              "}\n",
              "\n",
              "// This is roughly an async generator (not supported in the browser yet),\n",
              "// where there are multiple asynchronous steps and the Python side is going\n",
              "// to poll for completion of each step.\n",
              "// This uses a Promise to block the python side on completion of each step,\n",
              "// then passes the result of the previous step as the input to the next step.\n",
              "function _uploadFilesContinue(outputId) {\n",
              "  const outputElement = document.getElementById(outputId);\n",
              "  const steps = outputElement.steps;\n",
              "\n",
              "  const next = steps.next(outputElement.lastPromiseValue);\n",
              "  return Promise.resolve(next.value.promise).then((value) => {\n",
              "    // Cache the last promise value to make it available to the next\n",
              "    // step of the generator.\n",
              "    outputElement.lastPromiseValue = value;\n",
              "    return next.value.response;\n",
              "  });\n",
              "}\n",
              "\n",
              "/**\n",
              " * Generator function which is called between each async step of the upload\n",
              " * process.\n",
              " * @param {string} inputId Element ID of the input file picker element.\n",
              " * @param {string} outputId Element ID of the output display.\n",
              " * @return {!Iterable<!Object>} Iterable of next steps.\n",
              " */\n",
              "function* uploadFilesStep(inputId, outputId) {\n",
              "  const inputElement = document.getElementById(inputId);\n",
              "  inputElement.disabled = false;\n",
              "\n",
              "  const outputElement = document.getElementById(outputId);\n",
              "  outputElement.innerHTML = '';\n",
              "\n",
              "  const pickedPromise = new Promise((resolve) => {\n",
              "    inputElement.addEventListener('change', (e) => {\n",
              "      resolve(e.target.files);\n",
              "    });\n",
              "  });\n",
              "\n",
              "  const cancel = document.createElement('button');\n",
              "  inputElement.parentElement.appendChild(cancel);\n",
              "  cancel.textContent = 'Cancel upload';\n",
              "  const cancelPromise = new Promise((resolve) => {\n",
              "    cancel.onclick = () => {\n",
              "      resolve(null);\n",
              "    };\n",
              "  });\n",
              "\n",
              "  // Wait for the user to pick the files.\n",
              "  const files = yield {\n",
              "    promise: Promise.race([pickedPromise, cancelPromise]),\n",
              "    response: {\n",
              "      action: 'starting',\n",
              "    }\n",
              "  };\n",
              "\n",
              "  cancel.remove();\n",
              "\n",
              "  // Disable the input element since further picks are not allowed.\n",
              "  inputElement.disabled = true;\n",
              "\n",
              "  if (!files) {\n",
              "    return {\n",
              "      response: {\n",
              "        action: 'complete',\n",
              "      }\n",
              "    };\n",
              "  }\n",
              "\n",
              "  for (const file of files) {\n",
              "    const li = document.createElement('li');\n",
              "    li.append(span(file.name, {fontWeight: 'bold'}));\n",
              "    li.append(span(\n",
              "        `(${file.type || 'n/a'}) - ${file.size} bytes, ` +\n",
              "        `last modified: ${\n",
              "            file.lastModifiedDate ? file.lastModifiedDate.toLocaleDateString() :\n",
              "                                    'n/a'} - `));\n",
              "    const percent = span('0% done');\n",
              "    li.appendChild(percent);\n",
              "\n",
              "    outputElement.appendChild(li);\n",
              "\n",
              "    const fileDataPromise = new Promise((resolve) => {\n",
              "      const reader = new FileReader();\n",
              "      reader.onload = (e) => {\n",
              "        resolve(e.target.result);\n",
              "      };\n",
              "      reader.readAsArrayBuffer(file);\n",
              "    });\n",
              "    // Wait for the data to be ready.\n",
              "    let fileData = yield {\n",
              "      promise: fileDataPromise,\n",
              "      response: {\n",
              "        action: 'continue',\n",
              "      }\n",
              "    };\n",
              "\n",
              "    // Use a chunked sending to avoid message size limits. See b/62115660.\n",
              "    let position = 0;\n",
              "    do {\n",
              "      const length = Math.min(fileData.byteLength - position, MAX_PAYLOAD_SIZE);\n",
              "      const chunk = new Uint8Array(fileData, position, length);\n",
              "      position += length;\n",
              "\n",
              "      const base64 = btoa(String.fromCharCode.apply(null, chunk));\n",
              "      yield {\n",
              "        response: {\n",
              "          action: 'append',\n",
              "          file: file.name,\n",
              "          data: base64,\n",
              "        },\n",
              "      };\n",
              "\n",
              "      let percentDone = fileData.byteLength === 0 ?\n",
              "          100 :\n",
              "          Math.round((position / fileData.byteLength) * 100);\n",
              "      percent.textContent = `${percentDone}% done`;\n",
              "\n",
              "    } while (position < fileData.byteLength);\n",
              "  }\n",
              "\n",
              "  // All done.\n",
              "  yield {\n",
              "    response: {\n",
              "      action: 'complete',\n",
              "    }\n",
              "  };\n",
              "}\n",
              "\n",
              "scope.google = scope.google || {};\n",
              "scope.google.colab = scope.google.colab || {};\n",
              "scope.google.colab._files = {\n",
              "  _uploadFiles,\n",
              "  _uploadFilesContinue,\n",
              "};\n",
              "})(self);\n",
              "</script> "
            ]
          },
          "metadata": {}
        },
        {
          "output_type": "stream",
          "name": "stdout",
          "text": [
            "Saving indian_aqi_data.csv to indian_aqi_data.csv\n",
            "\n",
            " 'indian_aqi_data.csv' file uploaded successfully!\n"
          ]
        }
      ],
      "source": [
        "# Step 1: Load the Dataset\n",
        "\n",
        "# Prompt the user to upload the CSV file\n",
        "print(\"/content/drive/MyDrive/indian_aqi_data.csv\")\n",
        "uploaded = files.upload()\n",
        "\n",
        "# Read the uploaded file into a Pandas DataFrame\n",
        "try:\n",
        "    file_name = next(iter(uploaded))  # Get the uploaded file name\n",
        "    print(f\"\\n '{file_name}' file uploaded successfully!\")\n",
        "    df = pd.read_csv(file_name)       # Load the file into a DataFrame\n",
        "except (StopIteration, KeyError):\n",
        "    print(\"\\n No file was uploaded. Please run the cell again and upload the CSV file.\")\n",
        "    # Stop the code execution if upload fails\n",
        "    exit()\n"
      ]
    },
    {
      "cell_type": "markdown",
      "source": [
        "🌍 Real-World Applications\n",
        "General Public can check how polluted their city is.\n",
        "\n",
        "Government authorities can make data-driven decisions and implement better pollution control policies.\n",
        "\n",
        "Health professionals and researchers can analyze air quality trends to study health risks and disease patterns.\n",
        "\n",
        "Travelers and families can choose safer places based on AQI for relocation or vacation planning.\n",
        "\n"
      ],
      "metadata": {
        "id": "1vbIAQp9NZMy"
      }
    },
    {
      "cell_type": "code",
      "execution_count": 5,
      "metadata": {
        "colab": {
          "base_uri": "https://localhost:8080/"
        },
        "id": "XQ_kFEF8FRgH",
        "outputId": "9105c695-ce29-41eb-c57f-7459455443fd"
      },
      "outputs": [
        {
          "output_type": "stream",
          "name": "stdout",
          "text": [
            "\n",
            "Initial Dataset Information:\n",
            "<class 'pandas.core.frame.DataFrame'>\n",
            "RangeIndex: 21 entries, 0 to 20\n",
            "Data columns (total 5 columns):\n",
            " #   Column     Non-Null Count  Dtype  \n",
            "---  ------     --------------  -----  \n",
            " 0   City       21 non-null     object \n",
            " 1   State      21 non-null     object \n",
            " 2   Latitude   21 non-null     float64\n",
            " 3   Longitude  21 non-null     float64\n",
            " 4   AQI        21 non-null     int64  \n",
            "dtypes: float64(2), int64(1), object(2)\n",
            "memory usage: 972.0+ bytes\n",
            "\n",
            "------------------------------------\n",
            "\n",
            "Missing Values in Each Column (Before Cleaning):\n",
            "City         0\n",
            "State        0\n",
            "Latitude     0\n",
            "Longitude    0\n",
            "AQI          0\n",
            "dtype: int64\n",
            "\n",
            "------------------------------------\n",
            "\n",
            "Dataset Information After Cleaning:\n",
            "<class 'pandas.core.frame.DataFrame'>\n",
            "RangeIndex: 21 entries, 0 to 20\n",
            "Data columns (total 5 columns):\n",
            " #   Column     Non-Null Count  Dtype  \n",
            "---  ------     --------------  -----  \n",
            " 0   City       21 non-null     object \n",
            " 1   State      21 non-null     object \n",
            " 2   Latitude   21 non-null     float64\n",
            " 3   Longitude  21 non-null     float64\n",
            " 4   AQI        21 non-null     int64  \n",
            "dtypes: float64(2), int64(1), object(2)\n",
            "memory usage: 972.0+ bytes\n",
            "\n",
            "------------------------------------\n",
            "\n",
            "Missing Values in Each Column (After Cleaning):\n",
            "City         0\n",
            "State        0\n",
            "Latitude     0\n",
            "Longitude    0\n",
            "AQI          0\n",
            "dtype: int64\n",
            "\n",
            " Dataset has been successfully cleaned.\n"
          ]
        }
      ],
      "source": [
        "print(\"\\nInitial Dataset Information:\")\n",
        "df.info()\n",
        "\n",
        "print(\"\\n------------------------------------\")\n",
        "print(\"\\nMissing Values in Each Column (Before Cleaning):\")\n",
        "print(df.isnull().sum())\n",
        "\n",
        "# Convert the 'AQI' column to numeric format.\n",
        "# Any non-numeric values will be converted to NaN (Not a Number).\n",
        "df['AQI'] = pd.to_numeric(df['AQI'], errors='coerce')\n",
        "\n",
        "# Drop rows with any missing (NaN) values.\n",
        "# This also removes rows where AQI had invalid (non-numeric) values.\n",
        "df.dropna(inplace=True)\n",
        "\n",
        "# Convert AQI values to integer type for consistency.\n",
        "df['AQI'] = df['AQI'].astype(int)\n",
        "\n",
        "print(\"\\n------------------------------------\")\n",
        "print(\"\\nDataset Information After Cleaning:\")\n",
        "df.info()\n",
        "\n",
        "print(\"\\n------------------------------------\")\n",
        "print(\"\\nMissing Values in Each Column (After Cleaning):\")\n",
        "print(df.isnull().sum())\n",
        "\n",
        "print(\"\\n Dataset has been successfully cleaned.\")\n"
      ]
    },
    {
      "cell_type": "code",
      "execution_count": 6,
      "metadata": {
        "colab": {
          "base_uri": "https://localhost:8080/"
        },
        "id": "s2IP7PAAFmw4",
        "outputId": "2f07cca5-863b-41f7-cb48-73091eab0411"
      },
      "outputs": [
        {
          "output_type": "stream",
          "name": "stdout",
          "text": [
            "\n",
            "Dataset with AQI categories added:\n",
            "        City  AQI AQI_Category\n",
            "0      Delhi  233         Poor\n",
            "1     Mumbai  160     Moderate\n",
            "2  Bengaluru   86         Good\n",
            "3    Chennai  294         Poor\n",
            "4    Kolkata  200     Moderate\n"
          ]
        }
      ],
      "source": [
        "def categorize_aqi(aqi):\n",
        "    \"\"\"Returns the AQI category based on the AQI value.\"\"\"\n",
        "    if aqi <= 100:\n",
        "        return 'Good'\n",
        "    elif 101 <= aqi <= 200:\n",
        "        return 'Moderate'\n",
        "    else:  # aqi > 200\n",
        "        return 'Poor'\n",
        "\n",
        "# Apply the function to create a new column called 'AQI_Category'\n",
        "df['AQI_Category'] = df['AQI'].apply(categorize_aqi)\n",
        "\n",
        "# Display the updated dataset with AQI categories\n",
        "print(\"\\nDataset with AQI categories added:\")\n",
        "print(df[['City', 'AQI', 'AQI_Category']].head())\n"
      ]
    },
    {
      "cell_type": "markdown",
      "source": [
        "❓ Problem Statement\n",
        "Many citizens in India are unaware of the air quality levels in their own cities. As a result, they may unknowingly expose themselves to harmful pollution levels. This project aims to solve that problem by providing a simple and interactive AQI map that allows users to check AQI information city-wise.\n",
        "\n"
      ],
      "metadata": {
        "id": "sr8nM6paOE_Z"
      }
    },
    {
      "cell_type": "code",
      "execution_count": 7,
      "metadata": {
        "colab": {
          "base_uri": "https://localhost:8080/"
        },
        "id": "fHZUIiRYF3GQ",
        "outputId": "a9f165ed-df6e-4c6e-a567-d91a02f2c27b"
      },
      "outputs": [
        {
          "output_type": "stream",
          "name": "stdout",
          "text": [
            "\n",
            " Interactive map with filter layers has been created successfully.\n"
          ]
        }
      ],
      "source": [
        "# Set the approximate central coordinates of India\n",
        "map_center = [20.5937, 78.9629]\n",
        "\n",
        "# Create the Folium map object\n",
        "indian_aqi_map = folium.Map(location=map_center, zoom_start=5, tiles='CartoDB positron')\n",
        "\n",
        "# Create separate feature groups (layers) for each AQI category\n",
        "good_aqi_layer = folium.FeatureGroup(name='Good (AQI ≤ 100) 🟢', show=True)\n",
        "moderate_aqi_layer = folium.FeatureGroup(name='Moderate (AQI 101–200) 🟠', show=True)\n",
        "poor_aqi_layer = folium.FeatureGroup(name='Poor (AQI > 200) 🔴', show=True)\n",
        "\n",
        "# Define marker colors for each AQI category\n",
        "color_map = {'Good': 'green', 'Moderate': 'orange', 'Poor': 'red'}\n",
        "\n",
        "# Iterate through each row in the DataFrame and add a marker to the appropriate layer\n",
        "for idx, row in df.iterrows():\n",
        "    # Tooltip text to show on hover\n",
        "    tooltip_text = f\"<b>{row['City']}, {row['State']}</b><br>AQI: {row['AQI']}\"\n",
        "\n",
        "    # Create a circle marker for the city\n",
        "    marker = folium.CircleMarker(\n",
        "        location=[row['Latitude'], row['Longitude']],\n",
        "        radius=5,\n",
        "        color=color_map[row['AQI_Category']],\n",
        "        fill=True,\n",
        "        fill_color=color_map[row['AQI_Category']],\n",
        "        fill_opacity=0.7,\n",
        "        tooltip=tooltip_text\n",
        "    )\n",
        "\n",
        "    # Add the marker to the corresponding layer\n",
        "    if row['AQI_Category'] == 'Good':\n",
        "        marker.add_to(good_aqi_layer)\n",
        "    elif row['AQI_Category'] == 'Moderate':\n",
        "        marker.add_to(moderate_aqi_layer)\n",
        "    else:\n",
        "        marker.add_to(poor_aqi_layer)\n",
        "\n",
        "# Add all AQI layers to the map\n",
        "good_aqi_layer.add_to(indian_aqi_map)\n",
        "moderate_aqi_layer.add_to(indian_aqi_map)\n",
        "poor_aqi_layer.add_to(indian_aqi_map)\n",
        "\n",
        "# Add a layer control widget to toggle filters\n",
        "folium.LayerControl(collapsed=False).add_to(indian_aqi_map)\n",
        "\n",
        "print(\"\\n Interactive map with filter layers has been created successfully.\")\n",
        "\n",
        "# To display the map in the notebook (uncomment below if running in Jupyter or Colab)\n",
        "# indian_aqi_map\n"
      ]
    },
    {
      "cell_type": "code",
      "execution_count": 8,
      "metadata": {
        "colab": {
          "base_uri": "https://localhost:8080/",
          "height": 69
        },
        "id": "weg8n_keGSbb",
        "outputId": "997bbb6d-6703-4746-d659-02ed6697a51b"
      },
      "outputs": [
        {
          "output_type": "stream",
          "name": "stdout",
          "text": [
            "\n",
            " Map has been saved as 'indian_aqi_map_with_filters.html'.\n",
            " Downloading the map file...\n"
          ]
        },
        {
          "output_type": "display_data",
          "data": {
            "text/plain": [
              "<IPython.core.display.Javascript object>"
            ],
            "application/javascript": [
              "\n",
              "    async function download(id, filename, size) {\n",
              "      if (!google.colab.kernel.accessAllowed) {\n",
              "        return;\n",
              "      }\n",
              "      const div = document.createElement('div');\n",
              "      const label = document.createElement('label');\n",
              "      label.textContent = `Downloading \"${filename}\": `;\n",
              "      div.appendChild(label);\n",
              "      const progress = document.createElement('progress');\n",
              "      progress.max = size;\n",
              "      div.appendChild(progress);\n",
              "      document.body.appendChild(div);\n",
              "\n",
              "      const buffers = [];\n",
              "      let downloaded = 0;\n",
              "\n",
              "      const channel = await google.colab.kernel.comms.open(id);\n",
              "      // Send a message to notify the kernel that we're ready.\n",
              "      channel.send({})\n",
              "\n",
              "      for await (const message of channel.messages) {\n",
              "        // Send a message to notify the kernel that we're ready.\n",
              "        channel.send({})\n",
              "        if (message.buffers) {\n",
              "          for (const buffer of message.buffers) {\n",
              "            buffers.push(buffer);\n",
              "            downloaded += buffer.byteLength;\n",
              "            progress.value = downloaded;\n",
              "          }\n",
              "        }\n",
              "      }\n",
              "      const blob = new Blob(buffers, {type: 'application/binary'});\n",
              "      const a = document.createElement('a');\n",
              "      a.href = window.URL.createObjectURL(blob);\n",
              "      a.download = filename;\n",
              "      div.appendChild(a);\n",
              "      a.click();\n",
              "      div.remove();\n",
              "    }\n",
              "  "
            ]
          },
          "metadata": {}
        },
        {
          "output_type": "display_data",
          "data": {
            "text/plain": [
              "<IPython.core.display.Javascript object>"
            ],
            "application/javascript": [
              "download(\"download_eddee7e5-e9f1-4126-9e05-1c9dba78a7f7\", \"indian_aqi_map_with_filters.html\", 20478)"
            ]
          },
          "metadata": {}
        }
      ],
      "source": [
        "# Define the filename for the saved HTML map\n",
        "map_filename = 'indian_aqi_map_with_filters.html'\n",
        "\n",
        "# Save the map to the specified HTML file\n",
        "indian_aqi_map.save(map_filename)\n",
        "print(f\"\\n Map has been saved as '{map_filename}'.\")\n",
        "\n",
        "# Provide a download link in Google Colab\n",
        "print(\" Downloading the map file...\")\n",
        "files.download(map_filename)\n"
      ]
    },
    {
      "cell_type": "code",
      "execution_count": 9,
      "metadata": {
        "colab": {
          "base_uri": "https://localhost:8080/"
        },
        "id": "_dF6Zb2KGfLf",
        "outputId": "c0a1b3af-a5f7-4a8f-8fc3-1d28a493bb4a"
      },
      "outputs": [
        {
          "output_type": "stream",
          "name": "stdout",
          "text": [
            "\n",
            "--- Top 5 Most Polluted Cities ---\n",
            "     City          State  AQI\n",
            "Hyderabad      Telangana  300\n",
            "  Chennai     Tamil Nadu  294\n",
            "   Indore Madhya Pradesh  289\n",
            " Vadodara        Gujarat  282\n",
            "   Kanpur  Uttar Pradesh  237\n"
          ]
        }
      ],
      "source": [
        "# Sort the DataFrame by AQI in descending order and select the top 5 entries\n",
        "most_polluted_cities = df.sort_values(by='AQI', ascending=False).head(5)\n",
        "\n",
        "# Display the top 5 most polluted cities\n",
        "print(\"\\n--- Top 5 Most Polluted Cities ---\")\n",
        "print(most_polluted_cities[['City', 'State', 'AQI']].to_string(index=False))\n"
      ]
    },
    {
      "cell_type": "markdown",
      "source": [
        "📊 Summary and Key Insights\n",
        "Based on the AQI data provided:\n",
        "\n",
        "🔴 Highly Polluted Cities (AQI > 200):\n",
        "Delhi (233), Hyderabad (300), Chennai (294), Kanpur (237), Indore (289), Vadodara (282), Nashik (218)\n",
        "➤ Total: 7 cities\n",
        "\n",
        "🟠 Moderately Polluted Cities (AQI 101–200):\n",
        "Mumbai, Kolkata, Pune, Lucknow, Bhopal, Agra, Visakhapatnam, Coimbatore\n",
        "➤ Total: 8 cities\n",
        "\n",
        "🟢 Good Air Quality Cities (AQI ≤ 100):\n",
        "Bengaluru, Ahmedabad, Jaipur, Surat, Nagpur, Patna\n",
        "➤ Total: 6 cities\n",
        "\n"
      ],
      "metadata": {
        "id": "t76-Q73oMV02"
      }
    },
    {
      "cell_type": "markdown",
      "source": [
        "✅ Recommendations\n",
        "🔬 High AQI cities should implement immediate pollution control measures such as:\n",
        "\n",
        "Odd-even traffic rules\n",
        "\n",
        "Dust reduction campaigns\n",
        "\n",
        "Promotion of public transport and EVs\n",
        "\n",
        "🧪 Cities with good AQI should be encouraged to maintain and improve their clean air policies.\n",
        "\n",
        "📢 Public awareness about AQI and health risks should be increased through mobile apps, billboards, schools, and digital platforms.\n",
        "\n",
        "📉 Real-time and automated AQI monitoring stations should be installed in every city for accurate air quality tracking.\n",
        "\n"
      ],
      "metadata": {
        "id": "R5k77R9JMY9c"
      }
    }
  ],
  "metadata": {
    "colab": {
      "provenance": []
    },
    "kernelspec": {
      "display_name": "Python 3",
      "name": "python3"
    },
    "language_info": {
      "name": "python"
    }
  },
  "nbformat": 4,
  "nbformat_minor": 0
}